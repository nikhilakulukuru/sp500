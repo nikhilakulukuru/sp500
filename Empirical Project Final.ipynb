{
 "cells": [
  {
   "cell_type": "markdown",
   "metadata": {
    "id": "2TrvsXVWTU_t"
   },
   "source": [
    "## Regression Analysis\n",
    "### Predictors\n",
    "- Spot interest rate\n",
    "- Price dividend ratio\n",
    "- Lagged return\n",
    "\n",
    "### Response\n",
    "- Stock return"
   ]
  },
  {
   "cell_type": "code",
   "execution_count": 18,
   "metadata": {
    "id": "rgsrJf-bpovL"
   },
   "outputs": [],
   "source": [
    "import yfinance as yf\n",
    "import pandas_datareader.data as web\n",
    "\n",
    "import numpy as np\n",
    "import pandas as pd\n",
    "from sklearn.preprocessing import MinMaxScaler\n",
    "from functools import reduce\n",
    "import seaborn as sns\n",
    "import statsmodels.api as sm\n",
    "import statsmodels.formula.api as smf\n",
    "import matplotlib.pyplot as plt\n",
    "import seaborn as sns\n",
    "sns.set_style('whitegrid')\n",
    "import openpyxl\n",
    "\n",
    "import warnings\n",
    "warnings.filterwarnings(action='ignore')"
   ]
  },
  {
   "cell_type": "code",
   "execution_count": 19,
   "metadata": {
    "id": "-TDmb2Dewndr"
   },
   "outputs": [],
   "source": [
    "start_dt = '2014-11-01'   # extra month to calculate lagged return for 2015-01\n",
    "ticker = ['SPY']           # S&P 500"
   ]
  },
  {
   "cell_type": "code",
   "execution_count": 20,
   "metadata": {
    "colab": {
     "base_uri": "https://localhost:8080/",
     "height": 256
    },
    "id": "eXF_PnKCpumH",
    "outputId": "576d11c5-2d28-4479-bc97-3372ee7d2a0f"
   },
   "outputs": [
    {
     "name": "stdout",
     "output_type": "stream",
     "text": [
      "[*********************100%***********************]  1 of 1 completed\n"
     ]
    },
    {
     "data": {
      "text/html": [
       "<div>\n",
       "<style scoped>\n",
       "    .dataframe tbody tr th:only-of-type {\n",
       "        vertical-align: middle;\n",
       "    }\n",
       "\n",
       "    .dataframe tbody tr th {\n",
       "        vertical-align: top;\n",
       "    }\n",
       "\n",
       "    .dataframe thead th {\n",
       "        text-align: right;\n",
       "    }\n",
       "</style>\n",
       "<table border=\"1\" class=\"dataframe\">\n",
       "  <thead>\n",
       "    <tr style=\"text-align: right;\">\n",
       "      <th></th>\n",
       "      <th>return</th>\n",
       "      <th>lagged_return</th>\n",
       "    </tr>\n",
       "    <tr>\n",
       "      <th>Date</th>\n",
       "      <th></th>\n",
       "      <th></th>\n",
       "    </tr>\n",
       "  </thead>\n",
       "  <tbody>\n",
       "    <tr>\n",
       "      <th>2014-11-30</th>\n",
       "      <td>NaN</td>\n",
       "      <td>NaN</td>\n",
       "    </tr>\n",
       "    <tr>\n",
       "      <th>2014-12-31</th>\n",
       "      <td>-0.002537</td>\n",
       "      <td>NaN</td>\n",
       "    </tr>\n",
       "    <tr>\n",
       "      <th>2015-01-31</th>\n",
       "      <td>-0.029629</td>\n",
       "      <td>-0.002537</td>\n",
       "    </tr>\n",
       "    <tr>\n",
       "      <th>2015-02-28</th>\n",
       "      <td>0.056204</td>\n",
       "      <td>-0.029629</td>\n",
       "    </tr>\n",
       "    <tr>\n",
       "      <th>2015-03-31</th>\n",
       "      <td>-0.015706</td>\n",
       "      <td>0.056204</td>\n",
       "    </tr>\n",
       "  </tbody>\n",
       "</table>\n",
       "</div>"
      ],
      "text/plain": [
       "              return  lagged_return\n",
       "Date                               \n",
       "2014-11-30       NaN            NaN\n",
       "2014-12-31 -0.002537            NaN\n",
       "2015-01-31 -0.029629      -0.002537\n",
       "2015-02-28  0.056204      -0.029629\n",
       "2015-03-31 -0.015706       0.056204"
      ]
     },
     "execution_count": 20,
     "metadata": {},
     "output_type": "execute_result"
    }
   ],
   "source": [
    "# Price data\n",
    "df = yf.download(ticker,start=start_dt)\n",
    "df.index = df.index.tz_localize(None)\n",
    "df = pd.DataFrame(df['Adj Close']).asfreq(freq='M', method='ffill')\n",
    "df['return'] = df['Adj Close'].pct_change()\n",
    "df['lagged_return'] = df['return'].shift(1)\n",
    "df = df[['return', 'lagged_return']]\n",
    "df.head()"
   ]
  },
  {
   "cell_type": "code",
   "execution_count": 21,
   "metadata": {
    "colab": {
     "base_uri": "https://localhost:8080/",
     "height": 237
    },
    "id": "8Boysuh7WEfj",
    "outputId": "6c1564b6-8a9a-415c-909e-876d1a849225"
   },
   "outputs": [
    {
     "data": {
      "text/html": [
       "<div>\n",
       "<style scoped>\n",
       "    .dataframe tbody tr th:only-of-type {\n",
       "        vertical-align: middle;\n",
       "    }\n",
       "\n",
       "    .dataframe tbody tr th {\n",
       "        vertical-align: top;\n",
       "    }\n",
       "\n",
       "    .dataframe thead th {\n",
       "        text-align: right;\n",
       "    }\n",
       "</style>\n",
       "<table border=\"1\" class=\"dataframe\">\n",
       "  <thead>\n",
       "    <tr style=\"text-align: right;\">\n",
       "      <th></th>\n",
       "      <th>EFFR</th>\n",
       "    </tr>\n",
       "    <tr>\n",
       "      <th>DATE</th>\n",
       "      <th></th>\n",
       "    </tr>\n",
       "  </thead>\n",
       "  <tbody>\n",
       "    <tr>\n",
       "      <th>2014-11-03</th>\n",
       "      <td>NaN</td>\n",
       "    </tr>\n",
       "    <tr>\n",
       "      <th>2014-11-04</th>\n",
       "      <td>0.09</td>\n",
       "    </tr>\n",
       "    <tr>\n",
       "      <th>2014-11-05</th>\n",
       "      <td>0.10</td>\n",
       "    </tr>\n",
       "    <tr>\n",
       "      <th>2014-11-06</th>\n",
       "      <td>0.09</td>\n",
       "    </tr>\n",
       "    <tr>\n",
       "      <th>2014-11-07</th>\n",
       "      <td>0.09</td>\n",
       "    </tr>\n",
       "  </tbody>\n",
       "</table>\n",
       "</div>"
      ],
      "text/plain": [
       "            EFFR\n",
       "DATE            \n",
       "2014-11-03   NaN\n",
       "2014-11-04  0.09\n",
       "2014-11-05  0.10\n",
       "2014-11-06  0.09\n",
       "2014-11-07  0.09"
      ]
     },
     "execution_count": 21,
     "metadata": {},
     "output_type": "execute_result"
    }
   ],
   "source": [
    "# spot interest rate\n",
    "fred = web.DataReader('EFFR','fred',start=start_dt)\n",
    "fred = fred.shift(1)    # shift to get t-1\n",
    "fred.head()"
   ]
  },
  {
   "cell_type": "code",
   "execution_count": 22,
   "metadata": {
    "colab": {
     "base_uri": "https://localhost:8080/",
     "height": 455
    },
    "id": "A-NU-PZpM30W",
    "outputId": "8e8d0cf5-1d48-4bcf-fd2e-399af5d456c0"
   },
   "outputs": [
    {
     "data": {
      "text/html": [
       "<div>\n",
       "<style scoped>\n",
       "    .dataframe tbody tr th:only-of-type {\n",
       "        vertical-align: middle;\n",
       "    }\n",
       "\n",
       "    .dataframe tbody tr th {\n",
       "        vertical-align: top;\n",
       "    }\n",
       "\n",
       "    .dataframe thead th {\n",
       "        text-align: right;\n",
       "    }\n",
       "</style>\n",
       "<table border=\"1\" class=\"dataframe\">\n",
       "  <thead>\n",
       "    <tr style=\"text-align: right;\">\n",
       "      <th></th>\n",
       "      <th>PriceDivRatio</th>\n",
       "    </tr>\n",
       "    <tr>\n",
       "      <th>Date</th>\n",
       "      <th></th>\n",
       "    </tr>\n",
       "  </thead>\n",
       "  <tbody>\n",
       "    <tr>\n",
       "      <th>1871-01-31</th>\n",
       "      <td>NaN</td>\n",
       "    </tr>\n",
       "    <tr>\n",
       "      <th>1871-02-28</th>\n",
       "      <td>17.307692</td>\n",
       "    </tr>\n",
       "    <tr>\n",
       "      <th>1871-03-31</th>\n",
       "      <td>8.865385</td>\n",
       "    </tr>\n",
       "    <tr>\n",
       "      <th>1871-04-30</th>\n",
       "      <td>6.076923</td>\n",
       "    </tr>\n",
       "    <tr>\n",
       "      <th>1871-05-31</th>\n",
       "      <td>4.673077</td>\n",
       "    </tr>\n",
       "    <tr>\n",
       "      <th>...</th>\n",
       "      <td>...</td>\n",
       "    </tr>\n",
       "    <tr>\n",
       "      <th>2022-05-31</th>\n",
       "      <td>5.618900</td>\n",
       "    </tr>\n",
       "    <tr>\n",
       "      <th>2022-06-30</th>\n",
       "      <td>5.380716</td>\n",
       "    </tr>\n",
       "    <tr>\n",
       "      <th>2022-07-31</th>\n",
       "      <td>5.352889</td>\n",
       "    </tr>\n",
       "    <tr>\n",
       "      <th>2022-08-31</th>\n",
       "      <td>5.643364</td>\n",
       "    </tr>\n",
       "    <tr>\n",
       "      <th>2022-09-30</th>\n",
       "      <td>5.182476</td>\n",
       "    </tr>\n",
       "  </tbody>\n",
       "</table>\n",
       "<p>1821 rows × 1 columns</p>\n",
       "</div>"
      ],
      "text/plain": [
       "            PriceDivRatio\n",
       "Date                     \n",
       "1871-01-31            NaN\n",
       "1871-02-28      17.307692\n",
       "1871-03-31       8.865385\n",
       "1871-04-30       6.076923\n",
       "1871-05-31       4.673077\n",
       "...                   ...\n",
       "2022-05-31       5.618900\n",
       "2022-06-30       5.380716\n",
       "2022-07-31       5.352889\n",
       "2022-08-31       5.643364\n",
       "2022-09-30       5.182476\n",
       "\n",
       "[1821 rows x 1 columns]"
      ]
     },
     "execution_count": 22,
     "metadata": {},
     "output_type": "execute_result"
    }
   ],
   "source": [
    "# price dividend ratio\n",
    "\n",
    "market_data = pd.read_excel('ie_data.xls', sheet_name='Data', skiprows=7, skipfooter=1)\n",
    "market_data['Date'] = pd.to_datetime(market_data['Date'].apply(lambda x: \"{:.2f}\".format(x)), format='%Y.%m')\n",
    "market_data.set_index('Date', inplace=True)\n",
    "market_data['MonthlyDividend'] = market_data['D']/12\n",
    "market_data['PriceDivRatio'] = market_data['P']/(market_data['D'].rolling(12, min_periods=1).sum()).shift(1)\n",
    "market_data = market_data[['PriceDivRatio']].asfreq(freq='M', method='ffill')\n",
    "market_data.sort_index()"
   ]
  },
  {
   "cell_type": "code",
   "execution_count": 23,
   "metadata": {
    "colab": {
     "base_uri": "https://localhost:8080/",
     "height": 237
    },
    "id": "pZKl1GZEsj0I",
    "outputId": "9142adcb-7f5d-4fcb-efac-95786aeb1fb5"
   },
   "outputs": [
    {
     "data": {
      "text/html": [
       "<div>\n",
       "<style scoped>\n",
       "    .dataframe tbody tr th:only-of-type {\n",
       "        vertical-align: middle;\n",
       "    }\n",
       "\n",
       "    .dataframe tbody tr th {\n",
       "        vertical-align: top;\n",
       "    }\n",
       "\n",
       "    .dataframe thead th {\n",
       "        text-align: right;\n",
       "    }\n",
       "</style>\n",
       "<table border=\"1\" class=\"dataframe\">\n",
       "  <thead>\n",
       "    <tr style=\"text-align: right;\">\n",
       "      <th></th>\n",
       "      <th>return</th>\n",
       "      <th>lagged_return</th>\n",
       "      <th>EFFR</th>\n",
       "      <th>PriceDivRatio</th>\n",
       "    </tr>\n",
       "    <tr>\n",
       "      <th>Date</th>\n",
       "      <th></th>\n",
       "      <th></th>\n",
       "      <th></th>\n",
       "      <th></th>\n",
       "    </tr>\n",
       "  </thead>\n",
       "  <tbody>\n",
       "    <tr>\n",
       "      <th>2015-01-31</th>\n",
       "      <td>-0.029629</td>\n",
       "      <td>-0.002537</td>\n",
       "      <td>0.13</td>\n",
       "      <td>4.505365</td>\n",
       "    </tr>\n",
       "    <tr>\n",
       "      <th>2015-02-28</th>\n",
       "      <td>0.056204</td>\n",
       "      <td>-0.029629</td>\n",
       "      <td>0.13</td>\n",
       "      <td>4.579652</td>\n",
       "    </tr>\n",
       "    <tr>\n",
       "      <th>2015-03-31</th>\n",
       "      <td>-0.015706</td>\n",
       "      <td>0.056204</td>\n",
       "      <td>0.12</td>\n",
       "      <td>4.529595</td>\n",
       "    </tr>\n",
       "    <tr>\n",
       "      <th>2015-04-30</th>\n",
       "      <td>0.009834</td>\n",
       "      <td>-0.015706</td>\n",
       "      <td>0.13</td>\n",
       "      <td>4.516926</td>\n",
       "    </tr>\n",
       "    <tr>\n",
       "      <th>2015-05-31</th>\n",
       "      <td>0.012856</td>\n",
       "      <td>0.009834</td>\n",
       "      <td>0.13</td>\n",
       "      <td>4.509930</td>\n",
       "    </tr>\n",
       "  </tbody>\n",
       "</table>\n",
       "</div>"
      ],
      "text/plain": [
       "              return  lagged_return  EFFR  PriceDivRatio\n",
       "Date                                                    \n",
       "2015-01-31 -0.029629      -0.002537  0.13       4.505365\n",
       "2015-02-28  0.056204      -0.029629  0.13       4.579652\n",
       "2015-03-31 -0.015706       0.056204  0.12       4.529595\n",
       "2015-04-30  0.009834      -0.015706  0.13       4.516926\n",
       "2015-05-31  0.012856       0.009834  0.13       4.509930"
      ]
     },
     "execution_count": 23,
     "metadata": {},
     "output_type": "execute_result"
    }
   ],
   "source": [
    "df = df.join(fred)\n",
    "df = df.join(market_data)\n",
    "df['EFFR'] = df['EFFR'].fillna(method='ffill')\n",
    "df['PriceDivRatio'] = df['PriceDivRatio'].fillna(method='ffill')\n",
    "df = df.iloc[2:]\n",
    "df.head()   # 2015-05-31 to 2022-09-30"
   ]
  },
  {
   "cell_type": "code",
   "execution_count": 24,
   "metadata": {
    "colab": {
     "base_uri": "https://localhost:8080/",
     "height": 300
    },
    "id": "mi1UWUsj4UgC",
    "outputId": "a0d32696-5c31-4759-f2c4-c08b847a2580"
   },
   "outputs": [
    {
     "data": {
      "text/html": [
       "<div>\n",
       "<style scoped>\n",
       "    .dataframe tbody tr th:only-of-type {\n",
       "        vertical-align: middle;\n",
       "    }\n",
       "\n",
       "    .dataframe tbody tr th {\n",
       "        vertical-align: top;\n",
       "    }\n",
       "\n",
       "    .dataframe thead th {\n",
       "        text-align: right;\n",
       "    }\n",
       "</style>\n",
       "<table border=\"1\" class=\"dataframe\">\n",
       "  <thead>\n",
       "    <tr style=\"text-align: right;\">\n",
       "      <th></th>\n",
       "      <th>return</th>\n",
       "      <th>lagged_return</th>\n",
       "      <th>EFFR</th>\n",
       "      <th>PriceDivRatio</th>\n",
       "    </tr>\n",
       "  </thead>\n",
       "  <tbody>\n",
       "    <tr>\n",
       "      <th>count</th>\n",
       "      <td>93.000000</td>\n",
       "      <td>93.000000</td>\n",
       "      <td>93.000000</td>\n",
       "      <td>93.000000</td>\n",
       "    </tr>\n",
       "    <tr>\n",
       "      <th>mean</th>\n",
       "      <td>0.008514</td>\n",
       "      <td>0.009481</td>\n",
       "      <td>0.875806</td>\n",
       "      <td>4.784236</td>\n",
       "    </tr>\n",
       "    <tr>\n",
       "      <th>std</th>\n",
       "      <td>0.045277</td>\n",
       "      <td>0.044041</td>\n",
       "      <td>0.864662</td>\n",
       "      <td>0.724727</td>\n",
       "    </tr>\n",
       "    <tr>\n",
       "      <th>min</th>\n",
       "      <td>-0.124871</td>\n",
       "      <td>-0.124871</td>\n",
       "      <td>0.040000</td>\n",
       "      <td>3.770706</td>\n",
       "    </tr>\n",
       "    <tr>\n",
       "      <th>25%</th>\n",
       "      <td>-0.016743</td>\n",
       "      <td>-0.015706</td>\n",
       "      <td>0.100000</td>\n",
       "      <td>4.336545</td>\n",
       "    </tr>\n",
       "    <tr>\n",
       "      <th>50%</th>\n",
       "      <td>0.014113</td>\n",
       "      <td>0.014113</td>\n",
       "      <td>0.410000</td>\n",
       "      <td>4.572031</td>\n",
       "    </tr>\n",
       "    <tr>\n",
       "      <th>75%</th>\n",
       "      <td>0.036198</td>\n",
       "      <td>0.036198</td>\n",
       "      <td>1.600000</td>\n",
       "      <td>4.904108</td>\n",
       "    </tr>\n",
       "    <tr>\n",
       "      <th>max</th>\n",
       "      <td>0.126984</td>\n",
       "      <td>0.126984</td>\n",
       "      <td>3.080000</td>\n",
       "      <td>6.670873</td>\n",
       "    </tr>\n",
       "  </tbody>\n",
       "</table>\n",
       "</div>"
      ],
      "text/plain": [
       "          return  lagged_return       EFFR  PriceDivRatio\n",
       "count  93.000000      93.000000  93.000000      93.000000\n",
       "mean    0.008514       0.009481   0.875806       4.784236\n",
       "std     0.045277       0.044041   0.864662       0.724727\n",
       "min    -0.124871      -0.124871   0.040000       3.770706\n",
       "25%    -0.016743      -0.015706   0.100000       4.336545\n",
       "50%     0.014113       0.014113   0.410000       4.572031\n",
       "75%     0.036198       0.036198   1.600000       4.904108\n",
       "max     0.126984       0.126984   3.080000       6.670873"
      ]
     },
     "execution_count": 24,
     "metadata": {},
     "output_type": "execute_result"
    }
   ],
   "source": [
    "# print statistics\n",
    "df.describe()"
   ]
  },
  {
   "cell_type": "code",
   "execution_count": 25,
   "metadata": {
    "colab": {
     "base_uri": "https://localhost:8080/",
     "height": 404
    },
    "id": "Pb2XWymgT7EF",
    "outputId": "631db1aa-a68f-488f-ae0b-f01994388d74"
   },
   "outputs": [
    {
     "data": {
      "image/png": "[encoded data removed]",
      "text/plain": [
       "<Figure size 720x432 with 1 Axes>"
      ]
     },
     "metadata": {},
     "output_type": "display_data"
    }
   ],
   "source": [
    "df['return'].plot(figsize=(10, 6))\n",
    "plt.title('S&P 500 return')\n",
    "plt.ylabel('Monthly Return')\n",
    "plt.show()"
   ]
  },
  {
   "cell_type": "code",
   "execution_count": 26,
   "metadata": {
    "colab": {
     "base_uri": "https://localhost:8080/",
     "height": 404
    },
    "id": "iv7QKSWN3I72",
    "outputId": "4b29c458-beee-4662-f3a8-df630d1260ed"
   },
   "outputs": [
    {
     "data": {
      "image/png": "[encoded data removed]",
      "text/plain": [
       "<Figure size 720x432 with 1 Axes>"
      ]
     },
     "metadata": {},
     "output_type": "display_data"
    }
   ],
   "source": [
    "df['lagged_return'].plot(figsize=(10, 6))\n",
    "plt.title('S&P 500 lagged return (1 month lag)')\n",
    "plt.ylabel('Monthly Return')\n",
    "plt.show()"
   ]
  },
  {
   "cell_type": "code",
   "execution_count": 27,
   "metadata": {
    "colab": {
     "base_uri": "https://localhost:8080/",
     "height": 404
    },
    "id": "Pd5ASu593Tk5",
    "outputId": "b230fc30-c82b-4bfc-fd52-e39b88f852c8"
   },
   "outputs": [
    {
     "data": {
      "image/png": "[encoded data removed]",
      "text/plain": [
       "<Figure size 720x432 with 1 Axes>"
      ]
     },
     "metadata": {},
     "output_type": "display_data"
    }
   ],
   "source": [
    "df['EFFR'].plot(figsize=(10, 6))\n",
    "plt.title('Spot Interest Rate')\n",
    "plt.ylabel('Monthly Return')\n",
    "plt.show()"
   ]
  },
  {
   "cell_type": "code",
   "execution_count": 28,
   "metadata": {
    "colab": {
     "base_uri": "https://localhost:8080/",
     "height": 404
    },
    "id": "VqJCO_6l3dut",
    "outputId": "55692969-229d-40ee-b65a-6100390bf8d2"
   },
   "outputs": [
    {
     "data": {
      "image/png": "[encoded data removed]",
      "text/plain": [
       "<Figure size 720x432 with 1 Axes>"
      ]
     },
     "metadata": {},
     "output_type": "display_data"
    }
   ],
   "source": [
    "df['PriceDivRatio'].plot(figsize=(10, 6))\n",
    "plt.title('Price Dividend Ratio')\n",
    "plt.ylabel('Monthly Return')\n",
    "plt.show()"
   ]
  },
  {
   "cell_type": "code",
   "execution_count": 29,
   "metadata": {
    "id": "dszheFw-xV-e"
   },
   "outputs": [],
   "source": [
    "# Fitting regression model\n",
    "y = df['return']\n",
    "reg = sm.OLS.from_formula\\\n",
    "  (formula=\"y ~ lagged_return + EFFR + PriceDivRatio\",\n",
    "     data=df).fit()"
   ]
  },
  {
   "cell_type": "code",
   "execution_count": 30,
   "metadata": {
    "colab": {
     "base_uri": "https://localhost:8080/"
    },
    "id": "zX8MD-ngyMWu",
    "outputId": "ff366583-77bf-42ab-deea-6dce37f77b31"
   },
   "outputs": [
    {
     "name": "stdout",
     "output_type": "stream",
     "text": [
      "                            OLS Regression Results                            \n",
      "==============================================================================\n",
      "Dep. Variable:                      y   R-squared:                       0.037\n",
      "Model:                            OLS   Adj. R-squared:                  0.004\n",
      "Method:                 Least Squares   F-statistic:                     1.138\n",
      "Date:                Tue, 11 Oct 2022   Prob (F-statistic):              0.338\n",
      "Time:                        11:23:15   Log-Likelihood:                 158.12\n",
      "No. Observations:                  93   AIC:                            -308.2\n",
      "Df Residuals:                      89   BIC:                            -298.1\n",
      "Df Model:                           3                                         \n",
      "Covariance Type:            nonrobust                                         \n",
      "=================================================================================\n",
      "                    coef    std err          t      P>|t|      [0.025      0.975]\n",
      "---------------------------------------------------------------------------------\n",
      "Intercept         0.0275      0.033      0.826      0.411      -0.039       0.094\n",
      "lagged_return    -0.1415      0.107     -1.317      0.191      -0.355       0.072\n",
      "EFFR             -0.0070      0.006     -1.268      0.208      -0.018       0.004\n",
      "PriceDivRatio    -0.0024      0.007     -0.361      0.719      -0.016       0.011\n",
      "==============================================================================\n",
      "Omnibus:                        8.171   Durbin-Watson:                   1.997\n",
      "Prob(Omnibus):                  0.017   Jarque-Bera (JB):                7.765\n",
      "Skew:                          -0.627   Prob(JB):                       0.0206\n",
      "Kurtosis:                       3.657   Cond. No.                         115.\n",
      "==============================================================================\n",
      "\n",
      "Notes:\n",
      "[1] Standard Errors assume that the covariance matrix of the errors is correctly specified.\n"
     ]
    }
   ],
   "source": [
    "# Regression Summary\n",
    "print(reg.summary())"
   ]
  },
  {
   "cell_type": "code",
   "execution_count": 31,
   "metadata": {
    "colab": {
     "base_uri": "https://localhost:8080/",
     "height": 295
    },
    "id": "4HcoVThvyvKx",
    "outputId": "07004390-c74d-4100-d425-eabf6694a7cc"
   },
   "outputs": [
    {
     "data": {
      "image/png": "[encoded data removed]",
      "text/plain": [
       "<Figure size 432x288 with 1 Axes>"
      ]
     },
     "metadata": {},
     "output_type": "display_data"
    }
   ],
   "source": [
    "#Fitted values vs Residuals\n",
    "plt.scatter(reg.fittedvalues,\n",
    "    reg.resid, s=16)\n",
    "plt.title(\"Fitted Values versus Residuals\")\n",
    "plt.xlabel(\"Fitted Values\")\n",
    "plt.ylabel(\"Residuals\")\n",
    "plt.show()"
   ]
  },
  {
   "cell_type": "code",
   "execution_count": 32,
   "metadata": {
    "colab": {
     "base_uri": "https://localhost:8080/",
     "height": 657
    },
    "id": "W6XrrZbmzxr5",
    "outputId": "8832fa6c-4a36-4afb-9b4a-6766c753ac4b"
   },
   "outputs": [
    {
     "data": {
      "image/png": "[encoded data removed]",
      "text/plain": [
       "<Figure size 648x648 with 4 Axes>"
      ]
     },
     "metadata": {},
     "output_type": "display_data"
    }
   ],
   "source": [
    "# Residuals vs all variables\n",
    "\n",
    "from statsmodels.robust.robust_linear_model import reg_tools\n",
    "\n",
    "# fig = plt.figure(constrained_layout=True)\n",
    "fig, axs = plt.subplots(2, 2, figsize=[9,9])\n",
    "# ax1 = fig.add_subplot(221, projection='3d')\n",
    "# ax2 = fig.add_subplot(222, projection='3d')\n",
    "# ax3 = fig.add_subplot(223, projection='3d')\n",
    "\n",
    "axs[0,0].scatter(reg.fittedvalues, reg.resid, s=16)\n",
    "axs[0,0].set(xlabel=\"Fitted Values\",ylabel=\"Residuals\")\n",
    "\n",
    "axs[0,1].scatter(df.lagged_return, reg.resid, s=16)\n",
    "axs[0,1].set(xlabel=\"Lagged Return\",ylabel=\"Residuals\")\n",
    "\n",
    "axs[1,0].scatter(df.EFFR, reg.resid, s=16)\n",
    "axs[1,0].set(xlabel=\"EFFR\",ylabel=\"Residuals\")\n",
    "\n",
    "axs[1,1].scatter(df.PriceDivRatio, reg.resid, s=16)\n",
    "axs[1,1].set(xlabel=\"Price Dividend Ratio\",ylabel=\"Residuals\")\n",
    "\n",
    "plt.tight_layout()\n",
    "plt.show()"
   ]
  },
  {
   "cell_type": "code",
   "execution_count": 33,
   "metadata": {
    "colab": {
     "base_uri": "https://localhost:8080/",
     "height": 708
    },
    "id": "Aybf5UKkZpNm",
    "outputId": "b124cdc5-9896-4ff3-db57-6114399e238d"
   },
   "outputs": [
    {
     "data": {
      "text/html": [
       "<div>\n",
       "<style scoped>\n",
       "    .dataframe tbody tr th:only-of-type {\n",
       "        vertical-align: middle;\n",
       "    }\n",
       "\n",
       "    .dataframe tbody tr th {\n",
       "        vertical-align: top;\n",
       "    }\n",
       "\n",
       "    .dataframe thead th {\n",
       "        text-align: right;\n",
       "    }\n",
       "</style>\n",
       "<table border=\"1\" class=\"dataframe\">\n",
       "  <thead>\n",
       "    <tr style=\"text-align: right;\">\n",
       "      <th></th>\n",
       "      <th>return</th>\n",
       "      <th>lagged_return</th>\n",
       "      <th>EFFR</th>\n",
       "      <th>PriceDivRatio</th>\n",
       "      <th>cookd3</th>\n",
       "    </tr>\n",
       "    <tr>\n",
       "      <th>Date</th>\n",
       "      <th></th>\n",
       "      <th></th>\n",
       "      <th></th>\n",
       "      <th></th>\n",
       "      <th></th>\n",
       "    </tr>\n",
       "  </thead>\n",
       "  <tbody>\n",
       "    <tr>\n",
       "      <th>2020-03-31</th>\n",
       "      <td>-0.124871</td>\n",
       "      <td>-0.079166</td>\n",
       "      <td>0.09</td>\n",
       "      <td>3.877358</td>\n",
       "      <td>0.278825</td>\n",
       "    </tr>\n",
       "    <tr>\n",
       "      <th>2020-04-30</th>\n",
       "      <td>0.126984</td>\n",
       "      <td>-0.124871</td>\n",
       "      <td>0.04</td>\n",
       "      <td>4.010343</td>\n",
       "      <td>0.183062</td>\n",
       "    </tr>\n",
       "    <tr>\n",
       "      <th>2022-09-30</th>\n",
       "      <td>-0.092446</td>\n",
       "      <td>-0.040802</td>\n",
       "      <td>3.08</td>\n",
       "      <td>5.182476</td>\n",
       "      <td>0.140878</td>\n",
       "    </tr>\n",
       "    <tr>\n",
       "      <th>2022-07-31</th>\n",
       "      <td>0.092087</td>\n",
       "      <td>-0.082460</td>\n",
       "      <td>1.58</td>\n",
       "      <td>5.352889</td>\n",
       "      <td>0.067782</td>\n",
       "    </tr>\n",
       "    <tr>\n",
       "      <th>2019-01-31</th>\n",
       "      <td>0.080065</td>\n",
       "      <td>-0.088048</td>\n",
       "      <td>2.40</td>\n",
       "      <td>4.229892</td>\n",
       "      <td>0.065609</td>\n",
       "    </tr>\n",
       "    <tr>\n",
       "      <th>2022-04-30</th>\n",
       "      <td>-0.087769</td>\n",
       "      <td>0.037590</td>\n",
       "      <td>0.33</td>\n",
       "      <td>6.149213</td>\n",
       "      <td>0.061697</td>\n",
       "    </tr>\n",
       "    <tr>\n",
       "      <th>2018-12-31</th>\n",
       "      <td>-0.088048</td>\n",
       "      <td>0.018549</td>\n",
       "      <td>2.40</td>\n",
       "      <td>4.197695</td>\n",
       "      <td>0.048061</td>\n",
       "    </tr>\n",
       "    <tr>\n",
       "      <th>2020-05-31</th>\n",
       "      <td>0.047645</td>\n",
       "      <td>0.126984</td>\n",
       "      <td>0.04</td>\n",
       "      <td>4.212962</td>\n",
       "      <td>0.042031</td>\n",
       "    </tr>\n",
       "    <tr>\n",
       "      <th>2019-06-30</th>\n",
       "      <td>0.069587</td>\n",
       "      <td>-0.063771</td>\n",
       "      <td>2.39</td>\n",
       "      <td>4.507810</td>\n",
       "      <td>0.038411</td>\n",
       "    </tr>\n",
       "    <tr>\n",
       "      <th>2022-01-31</th>\n",
       "      <td>-0.052741</td>\n",
       "      <td>0.046248</td>\n",
       "      <td>0.08</td>\n",
       "      <td>6.503069</td>\n",
       "      <td>0.037436</td>\n",
       "    </tr>\n",
       "    <tr>\n",
       "      <th>2021-10-31</th>\n",
       "      <td>0.070164</td>\n",
       "      <td>-0.046605</td>\n",
       "      <td>0.08</td>\n",
       "      <td>6.384379</td>\n",
       "      <td>0.036580</td>\n",
       "    </tr>\n",
       "    <tr>\n",
       "      <th>2022-02-28</th>\n",
       "      <td>-0.029517</td>\n",
       "      <td>-0.052741</td>\n",
       "      <td>0.08</td>\n",
       "      <td>6.281572</td>\n",
       "      <td>0.031467</td>\n",
       "    </tr>\n",
       "    <tr>\n",
       "      <th>2020-11-30</th>\n",
       "      <td>0.108777</td>\n",
       "      <td>-0.024934</td>\n",
       "      <td>0.08</td>\n",
       "      <td>5.009012</td>\n",
       "      <td>0.028993</td>\n",
       "    </tr>\n",
       "    <tr>\n",
       "      <th>2022-06-30</th>\n",
       "      <td>-0.082460</td>\n",
       "      <td>0.002257</td>\n",
       "      <td>1.58</td>\n",
       "      <td>5.380716</td>\n",
       "      <td>0.027888</td>\n",
       "    </tr>\n",
       "    <tr>\n",
       "      <th>2021-09-30</th>\n",
       "      <td>-0.046605</td>\n",
       "      <td>0.029760</td>\n",
       "      <td>0.08</td>\n",
       "      <td>6.366362</td>\n",
       "      <td>0.027181</td>\n",
       "    </tr>\n",
       "    <tr>\n",
       "      <th>2016-01-31</th>\n",
       "      <td>-0.049787</td>\n",
       "      <td>-0.017283</td>\n",
       "      <td>0.35</td>\n",
       "      <td>3.826486</td>\n",
       "      <td>0.024860</td>\n",
       "    </tr>\n",
       "    <tr>\n",
       "      <th>2019-05-31</th>\n",
       "      <td>-0.063771</td>\n",
       "      <td>0.040852</td>\n",
       "      <td>2.39</td>\n",
       "      <td>4.487768</td>\n",
       "      <td>0.022966</td>\n",
       "    </tr>\n",
       "    <tr>\n",
       "      <th>2018-10-31</th>\n",
       "      <td>-0.069104</td>\n",
       "      <td>0.005945</td>\n",
       "      <td>2.20</td>\n",
       "      <td>4.622326</td>\n",
       "      <td>0.022944</td>\n",
       "    </tr>\n",
       "    <tr>\n",
       "      <th>2015-09-30</th>\n",
       "      <td>-0.025516</td>\n",
       "      <td>-0.060950</td>\n",
       "      <td>0.13</td>\n",
       "      <td>4.005294</td>\n",
       "      <td>0.021851</td>\n",
       "    </tr>\n",
       "    <tr>\n",
       "      <th>2015-08-31</th>\n",
       "      <td>-0.060950</td>\n",
       "      <td>0.022589</td>\n",
       "      <td>0.14</td>\n",
       "      <td>4.238016</td>\n",
       "      <td>0.021035</td>\n",
       "    </tr>\n",
       "  </tbody>\n",
       "</table>\n",
       "</div>"
      ],
      "text/plain": [
       "              return  lagged_return  EFFR  PriceDivRatio    cookd3\n",
       "Date                                                              \n",
       "2020-03-31 -0.124871      -0.079166  0.09       3.877358  0.278825\n",
       "2020-04-30  0.126984      -0.124871  0.04       4.010343  0.183062\n",
       "2022-09-30 -0.092446      -0.040802  3.08       5.182476  0.140878\n",
       "2022-07-31  0.092087      -0.082460  1.58       5.352889  0.067782\n",
       "2019-01-31  0.080065      -0.088048  2.40       4.229892  0.065609\n",
       "2022-04-30 -0.087769       0.037590  0.33       6.149213  0.061697\n",
       "2018-12-31 -0.088048       0.018549  2.40       4.197695  0.048061\n",
       "2020-05-31  0.047645       0.126984  0.04       4.212962  0.042031\n",
       "2019-06-30  0.069587      -0.063771  2.39       4.507810  0.038411\n",
       "2022-01-31 -0.052741       0.046248  0.08       6.503069  0.037436\n",
       "2021-10-31  0.070164      -0.046605  0.08       6.384379  0.036580\n",
       "2022-02-28 -0.029517      -0.052741  0.08       6.281572  0.031467\n",
       "2020-11-30  0.108777      -0.024934  0.08       5.009012  0.028993\n",
       "2022-06-30 -0.082460       0.002257  1.58       5.380716  0.027888\n",
       "2021-09-30 -0.046605       0.029760  0.08       6.366362  0.027181\n",
       "2016-01-31 -0.049787      -0.017283  0.35       3.826486  0.024860\n",
       "2019-05-31 -0.063771       0.040852  2.39       4.487768  0.022966\n",
       "2018-10-31 -0.069104       0.005945  2.20       4.622326  0.022944\n",
       "2015-09-30 -0.025516      -0.060950  0.13       4.005294  0.021851\n",
       "2015-08-31 -0.060950       0.022589  0.14       4.238016  0.021035"
      ]
     },
     "execution_count": 33,
     "metadata": {},
     "output_type": "execute_result"
    }
   ],
   "source": [
    "df[\"cookd3\"] = reg.get_influence().cooks_distance[0]\n",
    "df.sort_values(\"cookd3\",ascending=False).head(20)"
   ]
  },
  {
   "cell_type": "code",
   "execution_count": 34,
   "metadata": {
    "colab": {
     "base_uri": "https://localhost:8080/",
     "height": 175
    },
    "id": "AZQ3k6LT0J-Y",
    "outputId": "bebcb16a-2988-4357-c38c-f26f3910caeb"
   },
   "outputs": [
    {
     "data": {
      "text/html": [
       "<div>\n",
       "<style scoped>\n",
       "    .dataframe tbody tr th:only-of-type {\n",
       "        vertical-align: middle;\n",
       "    }\n",
       "\n",
       "    .dataframe tbody tr th {\n",
       "        vertical-align: top;\n",
       "    }\n",
       "\n",
       "    .dataframe thead th {\n",
       "        text-align: right;\n",
       "    }\n",
       "</style>\n",
       "<table border=\"1\" class=\"dataframe\">\n",
       "  <thead>\n",
       "    <tr style=\"text-align: right;\">\n",
       "      <th></th>\n",
       "      <th>feature</th>\n",
       "      <th>VIF</th>\n",
       "    </tr>\n",
       "  </thead>\n",
       "  <tbody>\n",
       "    <tr>\n",
       "      <th>1</th>\n",
       "      <td>lagged_return</td>\n",
       "      <td>1.365511</td>\n",
       "    </tr>\n",
       "    <tr>\n",
       "      <th>2</th>\n",
       "      <td>EFFR</td>\n",
       "      <td>1.915682</td>\n",
       "    </tr>\n",
       "    <tr>\n",
       "      <th>3</th>\n",
       "      <td>PriceDivRatio</td>\n",
       "      <td>2.471362</td>\n",
       "    </tr>\n",
       "    <tr>\n",
       "      <th>4</th>\n",
       "      <td>cookd3</td>\n",
       "      <td>1.543624</td>\n",
       "    </tr>\n",
       "  </tbody>\n",
       "</table>\n",
       "</div>"
      ],
      "text/plain": [
       "         feature       VIF\n",
       "1  lagged_return  1.365511\n",
       "2           EFFR  1.915682\n",
       "3  PriceDivRatio  2.471362\n",
       "4         cookd3  1.543624"
      ]
     },
     "execution_count": 34,
     "metadata": {},
     "output_type": "execute_result"
    }
   ],
   "source": [
    "#Multicollinearity\n",
    "\n",
    "from statsmodels.stats.outliers_influence import variance_inflation_factor\n",
    "\n",
    "vif_data = pd.DataFrame()\n",
    "vif_data[\"feature\"] = df.columns\n",
    "vif_data[\"VIF\"] = [variance_inflation_factor(df.values, i) for i in range(len(df.columns))]\n",
    "vif_data[vif_data['feature'] != 'return'] # none of the VIF values are very high, so none of the variables show multicollinearity \n",
    "# https://www.geeksforgeeks.org/detecting-multicollinearity-with-vif-python/"
   ]
  },
  {
   "cell_type": "code",
   "execution_count": 35,
   "metadata": {
    "id": "-5cc2klTGLUp"
   },
   "outputs": [],
   "source": [
    "#Using interaction variables\n",
    "\n",
    "reg_interaction = sm.OLS.from_formula\\\n",
    "  (formula=\"y ~ lagged_return + EFFR + PriceDivRatio + lagged_return * EFFR + lagged_return * PriceDivRatio + EFFR * PriceDivRatio\",\n",
    "     data=df).fit()"
   ]
  },
  {
   "cell_type": "code",
   "execution_count": 36,
   "metadata": {
    "colab": {
     "base_uri": "https://localhost:8080/"
    },
    "id": "YZJqRaPrHPoX",
    "outputId": "738f2bf7-c575-4b27-f93c-5eae7bfb29bc"
   },
   "outputs": [
    {
     "name": "stdout",
     "output_type": "stream",
     "text": [
      "                            OLS Regression Results                            \n",
      "==============================================================================\n",
      "Dep. Variable:                      y   R-squared:                       0.075\n",
      "Model:                            OLS   Adj. R-squared:                  0.011\n",
      "Method:                 Least Squares   F-statistic:                     1.163\n",
      "Date:                Tue, 11 Oct 2022   Prob (F-statistic):              0.334\n",
      "Time:                        11:23:18   Log-Likelihood:                 160.00\n",
      "No. Observations:                  93   AIC:                            -306.0\n",
      "Df Residuals:                      86   BIC:                            -288.3\n",
      "Df Model:                           6                                         \n",
      "Covariance Type:            nonrobust                                         \n",
      "===============================================================================================\n",
      "                                  coef    std err          t      P>|t|      [0.025      0.975]\n",
      "-----------------------------------------------------------------------------------------------\n",
      "Intercept                      -0.0032      0.039     -0.081      0.935      -0.080       0.074\n",
      "lagged_return                   0.6184      0.688      0.899      0.371      -0.749       1.986\n",
      "EFFR                            0.0766      0.061      1.251      0.214      -0.045       0.198\n",
      "PriceDivRatio                   0.0039      0.008      0.497      0.621      -0.012       0.019\n",
      "lagged_return:EFFR             -0.0567      0.110     -0.515      0.608      -0.275       0.162\n",
      "lagged_return:PriceDivRatio    -0.1498      0.142     -1.057      0.294      -0.432       0.132\n",
      "EFFR:PriceDivRatio             -0.0177      0.013     -1.368      0.175      -0.043       0.008\n",
      "==============================================================================\n",
      "Omnibus:                        4.282   Durbin-Watson:                   2.036\n",
      "Prob(Omnibus):                  0.118   Jarque-Bera (JB):                3.568\n",
      "Skew:                          -0.406   Prob(JB):                        0.168\n",
      "Kurtosis:                       3.511   Cond. No.                     1.06e+03\n",
      "==============================================================================\n",
      "\n",
      "Notes:\n",
      "[1] Standard Errors assume that the covariance matrix of the errors is correctly specified.\n",
      "[2] The condition number is large, 1.06e+03. This might indicate that there are\n",
      "strong multicollinearity or other numerical problems.\n"
     ]
    }
   ],
   "source": [
    "print(reg_interaction.summary()) #R squared increases a bit but interaction variables are not significant"
   ]
  },
  {
   "cell_type": "code",
   "execution_count": 37,
   "metadata": {
    "id": "zk3OEtZ-HRVj"
   },
   "outputs": [],
   "source": [
    "from sklearn.model_selection import train_test_split\n",
    "\n",
    "x1 = df.iloc[:,1:]\n",
    "y1 = df.iloc[:,0]\n",
    "\n",
    "x_train,x_test,y_train,y_test=train_test_split(x1,y1,test_size=0.2,random_state=0)"
   ]
  },
  {
   "cell_type": "code",
   "execution_count": 38,
   "metadata": {
    "colab": {
     "base_uri": "https://localhost:8080/"
    },
    "id": "4INgzmNANFcv",
    "outputId": "1d5f4f66-f279-4b9f-c6e8-d0c7c1b070d5"
   },
   "outputs": [
    {
     "name": "stdout",
     "output_type": "stream",
     "text": [
      "                            OLS Regression Results                            \n",
      "==============================================================================\n",
      "Dep. Variable:                     y1   R-squared:                       0.115\n",
      "Model:                            OLS   Adj. R-squared:                  0.075\n",
      "Method:                 Least Squares   F-statistic:                     2.860\n",
      "Date:                Tue, 11 Oct 2022   Prob (F-statistic):             0.0280\n",
      "Time:                        11:23:21   Log-Likelihood:                 162.06\n",
      "No. Observations:                  93   AIC:                            -314.1\n",
      "Df Residuals:                      88   BIC:                            -301.4\n",
      "Df Model:                           4                                         \n",
      "Covariance Type:            nonrobust                                         \n",
      "==============================================================================\n",
      "                 coef    std err          t      P>|t|      [0.025      0.975]\n",
      "------------------------------------------------------------------------------\n",
      "Intercept      0.0343      0.032      1.065      0.290      -0.030       0.098\n",
      "x1[0]         -0.2743      0.114     -2.405      0.018      -0.501      -0.048\n",
      "x1[1]         -0.0069      0.005     -1.285      0.202      -0.017       0.004\n",
      "x1[2]         -0.0023      0.006     -0.367      0.715      -0.015       0.010\n",
      "x1[3]         -0.3621      0.130     -2.787      0.007      -0.620      -0.104\n",
      "==============================================================================\n",
      "Omnibus:                        1.217   Durbin-Watson:                   1.852\n",
      "Prob(Omnibus):                  0.544   Jarque-Bera (JB):                0.867\n",
      "Skew:                           0.231   Prob(JB):                        0.648\n",
      "Kurtosis:                       3.103   Cond. No.                         162.\n",
      "==============================================================================\n",
      "\n",
      "Notes:\n",
      "[1] Standard Errors assume that the covariance matrix of the errors is correctly specified.\n"
     ]
    }
   ],
   "source": [
    "# from sklearn.model_selection import train_test_split\n",
    "from sklearn.linear_model import LinearRegression\n",
    "\n",
    "linreg2 = sm.OLS.from_formula\\\n",
    "  (formula=\"y1 ~ x1\",\n",
    "     data=df).fit()\n",
    "\n",
    "print(linreg2.summary())"
   ]
  },
  {
   "cell_type": "code",
   "execution_count": 39,
   "metadata": {
    "colab": {
     "base_uri": "https://localhost:8080/"
    },
    "id": "CRtzLv0fNGpF",
    "outputId": "d092aecd-2def-4e24-a2aa-0503ba2ba2b8"
   },
   "outputs": [
    {
     "data": {
      "text/plain": [
       "array([ 0.0101847 ,  0.01775665,  0.00413995,  0.02818909,  0.04460604,\n",
       "       -0.00236709,  0.00745493, -0.00046523,  0.01273835,  0.01686321,\n",
       "        0.01035258,  0.01532344,  0.01840258,  0.02061464, -0.00210886,\n",
       "        0.00276111,  0.04218559,  0.03341429,  0.00203672])"
      ]
     },
     "execution_count": 39,
     "metadata": {},
     "output_type": "execute_result"
    }
   ],
   "source": [
    "linreg = LinearRegression()\n",
    "linreg.fit(x_train,y_train)\n",
    "y_pred=linreg.predict(x_test)\n",
    "y_pred"
   ]
  },
  {
   "cell_type": "code",
   "execution_count": 40,
   "metadata": {
    "colab": {
     "base_uri": "https://localhost:8080/",
     "height": 279
    },
    "id": "PWM4Za85NhRJ",
    "outputId": "aa2a9ab3-4944-4f31-8299-77f46e782665"
   },
   "outputs": [
    {
     "data": {
      "image/png": "[encoded data removed]",
      "text/plain": [
       "<Figure size 432x288 with 1 Axes>"
      ]
     },
     "metadata": {},
     "output_type": "display_data"
    }
   ],
   "source": [
    "# plt.scatter(y_test,y_pred)\n",
    "# plt.xlabel('Actual')\n",
    "# plt.ylabel('Predicted')\n",
    "\n",
    "plt.scatter(range(len(y_test)), y_test, color='b', label='True')\n",
    "plt.scatter(range(len(y_pred)), y_pred, color='r', label='Predicted')\n",
    "plt.ylabel('Response')\n",
    "plt.xlabel('Prediction data label')\n",
    "plt.legend()\n",
    "plt.show()"
   ]
  },
  {
   "cell_type": "code",
   "execution_count": 41,
   "metadata": {
    "colab": {
     "base_uri": "https://localhost:8080/",
     "height": 279
    },
    "id": "9pFEQicmNsr9",
    "outputId": "1ef13fa8-c087-4a18-ce60-9c618ccd83b6"
   },
   "outputs": [
    {
     "data": {
      "image/png": "[encoded data removed]",
      "text/plain": [
       "<Figure size 432x288 with 1 Axes>"
      ]
     },
     "metadata": {},
     "output_type": "display_data"
    }
   ],
   "source": [
    "sns.regplot(x=y_test,y=y_pred, ci=None)\n",
    "plt.xlabel('True value')\n",
    "plt.ylabel('Predicted value')\n",
    "plt.show()"
   ]
  },
  {
   "cell_type": "code",
   "execution_count": 42,
   "metadata": {
    "colab": {
     "base_uri": "https://localhost:8080/",
     "height": 237
    },
    "id": "cgtcJP26NwjQ",
    "outputId": "6f54431b-5b61-4429-e73f-a5f680d60422"
   },
   "outputs": [
    {
     "data": {
      "text/html": [
       "<div>\n",
       "<style scoped>\n",
       "    .dataframe tbody tr th:only-of-type {\n",
       "        vertical-align: middle;\n",
       "    }\n",
       "\n",
       "    .dataframe tbody tr th {\n",
       "        vertical-align: top;\n",
       "    }\n",
       "\n",
       "    .dataframe thead th {\n",
       "        text-align: right;\n",
       "    }\n",
       "</style>\n",
       "<table border=\"1\" class=\"dataframe\">\n",
       "  <thead>\n",
       "    <tr style=\"text-align: right;\">\n",
       "      <th></th>\n",
       "      <th>Actual Value</th>\n",
       "      <th>Predicted Value</th>\n",
       "      <th>Difference</th>\n",
       "    </tr>\n",
       "    <tr>\n",
       "      <th>Date</th>\n",
       "      <th></th>\n",
       "      <th></th>\n",
       "      <th></th>\n",
       "    </tr>\n",
       "  </thead>\n",
       "  <tbody>\n",
       "    <tr>\n",
       "      <th>2015-03-31</th>\n",
       "      <td>-0.015706</td>\n",
       "      <td>0.010185</td>\n",
       "      <td>-0.025890</td>\n",
       "    </tr>\n",
       "    <tr>\n",
       "      <th>2017-07-31</th>\n",
       "      <td>0.020554</td>\n",
       "      <td>0.017757</td>\n",
       "      <td>0.002797</td>\n",
       "    </tr>\n",
       "    <tr>\n",
       "      <th>2019-08-31</th>\n",
       "      <td>-0.016743</td>\n",
       "      <td>0.004140</td>\n",
       "      <td>-0.020883</td>\n",
       "    </tr>\n",
       "    <tr>\n",
       "      <th>2016-05-31</th>\n",
       "      <td>0.017011</td>\n",
       "      <td>0.028189</td>\n",
       "      <td>-0.011178</td>\n",
       "    </tr>\n",
       "    <tr>\n",
       "      <th>2016-02-29</th>\n",
       "      <td>-0.000826</td>\n",
       "      <td>0.044606</td>\n",
       "      <td>-0.045432</td>\n",
       "    </tr>\n",
       "  </tbody>\n",
       "</table>\n",
       "</div>"
      ],
      "text/plain": [
       "            Actual Value  Predicted Value  Difference\n",
       "Date                                                 \n",
       "2015-03-31     -0.015706         0.010185   -0.025890\n",
       "2017-07-31      0.020554         0.017757    0.002797\n",
       "2019-08-31     -0.016743         0.004140   -0.020883\n",
       "2016-05-31      0.017011         0.028189   -0.011178\n",
       "2016-02-29     -0.000826         0.044606   -0.045432"
      ]
     },
     "execution_count": 42,
     "metadata": {},
     "output_type": "execute_result"
    }
   ],
   "source": [
    "pred_df=pd.DataFrame({'Actual Value':y_test,'Predicted Value':y_pred,'Difference':y_test-y_pred})\n",
    "pred_df.head()"
   ]
  },
  {
   "cell_type": "code",
   "execution_count": 43,
   "metadata": {
    "colab": {
     "base_uri": "https://localhost:8080/",
     "height": 238
    },
    "id": "WoYfCwI2j3yJ",
    "outputId": "40b4b0a9-631c-491f-f39d-23a0cf7b18a9"
   },
   "outputs": [
    {
     "data": {
      "text/html": [
       "<div>\n",
       "<style scoped>\n",
       "    .dataframe tbody tr th:only-of-type {\n",
       "        vertical-align: middle;\n",
       "    }\n",
       "\n",
       "    .dataframe tbody tr th {\n",
       "        vertical-align: top;\n",
       "    }\n",
       "\n",
       "    .dataframe thead th {\n",
       "        text-align: right;\n",
       "    }\n",
       "</style>\n",
       "<table border=\"1\" class=\"dataframe\">\n",
       "  <thead>\n",
       "    <tr style=\"text-align: right;\">\n",
       "      <th></th>\n",
       "      <th>return</th>\n",
       "      <th>lagged_return</th>\n",
       "      <th>EFFR</th>\n",
       "      <th>PriceDivRatio</th>\n",
       "      <th>cookd3</th>\n",
       "    </tr>\n",
       "    <tr>\n",
       "      <th>Date</th>\n",
       "      <th></th>\n",
       "      <th></th>\n",
       "      <th></th>\n",
       "      <th></th>\n",
       "      <th></th>\n",
       "    </tr>\n",
       "  </thead>\n",
       "  <tbody>\n",
       "    <tr>\n",
       "      <th>2015-01-31</th>\n",
       "      <td>-0.029629</td>\n",
       "      <td>-0.002537</td>\n",
       "      <td>0.13</td>\n",
       "      <td>4.505365</td>\n",
       "      <td>0.006109</td>\n",
       "    </tr>\n",
       "    <tr>\n",
       "      <th>2015-02-28</th>\n",
       "      <td>0.056204</td>\n",
       "      <td>-0.029629</td>\n",
       "      <td>0.13</td>\n",
       "      <td>4.579652</td>\n",
       "      <td>0.005021</td>\n",
       "    </tr>\n",
       "    <tr>\n",
       "      <th>2015-03-31</th>\n",
       "      <td>-0.015706</td>\n",
       "      <td>0.056204</td>\n",
       "      <td>0.12</td>\n",
       "      <td>4.529595</td>\n",
       "      <td>0.002566</td>\n",
       "    </tr>\n",
       "    <tr>\n",
       "      <th>2015-04-30</th>\n",
       "      <td>0.009834</td>\n",
       "      <td>-0.015706</td>\n",
       "      <td>0.13</td>\n",
       "      <td>4.516926</td>\n",
       "      <td>0.000214</td>\n",
       "    </tr>\n",
       "    <tr>\n",
       "      <th>2015-05-31</th>\n",
       "      <td>0.012856</td>\n",
       "      <td>0.009834</td>\n",
       "      <td>0.13</td>\n",
       "      <td>4.509930</td>\n",
       "      <td>0.000006</td>\n",
       "    </tr>\n",
       "  </tbody>\n",
       "</table>\n",
       "</div>"
      ],
      "text/plain": [
       "              return  lagged_return  EFFR  PriceDivRatio    cookd3\n",
       "Date                                                              \n",
       "2015-01-31 -0.029629      -0.002537  0.13       4.505365  0.006109\n",
       "2015-02-28  0.056204      -0.029629  0.13       4.579652  0.005021\n",
       "2015-03-31 -0.015706       0.056204  0.12       4.529595  0.002566\n",
       "2015-04-30  0.009834      -0.015706  0.13       4.516926  0.000214\n",
       "2015-05-31  0.012856       0.009834  0.13       4.509930  0.000006"
      ]
     },
     "execution_count": 43,
     "metadata": {},
     "output_type": "execute_result"
    }
   ],
   "source": [
    "df.head()"
   ]
  },
  {
   "cell_type": "code",
   "execution_count": 44,
   "metadata": {
    "id": "HRM7gRwNj4cf"
   },
   "outputs": [],
   "source": [
    "df2 = df"
   ]
  },
  {
   "cell_type": "code",
   "execution_count": 45,
   "metadata": {
    "colab": {
     "base_uri": "https://localhost:8080/",
     "height": 238
    },
    "id": "rUC9-pmtj8HA",
    "outputId": "dae41fb2-b06d-466e-ee51-5bfcc932f94f"
   },
   "outputs": [
    {
     "data": {
      "text/html": [
       "<div>\n",
       "<style scoped>\n",
       "    .dataframe tbody tr th:only-of-type {\n",
       "        vertical-align: middle;\n",
       "    }\n",
       "\n",
       "    .dataframe tbody tr th {\n",
       "        vertical-align: top;\n",
       "    }\n",
       "\n",
       "    .dataframe thead th {\n",
       "        text-align: right;\n",
       "    }\n",
       "</style>\n",
       "<table border=\"1\" class=\"dataframe\">\n",
       "  <thead>\n",
       "    <tr style=\"text-align: right;\">\n",
       "      <th></th>\n",
       "      <th>return</th>\n",
       "      <th>lagged_return</th>\n",
       "      <th>EFFR</th>\n",
       "      <th>PriceDivRatio</th>\n",
       "      <th>cookd3</th>\n",
       "    </tr>\n",
       "    <tr>\n",
       "      <th>Date</th>\n",
       "      <th></th>\n",
       "      <th></th>\n",
       "      <th></th>\n",
       "      <th></th>\n",
       "      <th></th>\n",
       "    </tr>\n",
       "  </thead>\n",
       "  <tbody>\n",
       "    <tr>\n",
       "      <th>2015-01-31</th>\n",
       "      <td>-0.029629</td>\n",
       "      <td>-0.002537</td>\n",
       "      <td>0.13</td>\n",
       "      <td>4.505365</td>\n",
       "      <td>0.006109</td>\n",
       "    </tr>\n",
       "    <tr>\n",
       "      <th>2015-02-28</th>\n",
       "      <td>0.056204</td>\n",
       "      <td>-0.029629</td>\n",
       "      <td>0.13</td>\n",
       "      <td>4.579652</td>\n",
       "      <td>0.005021</td>\n",
       "    </tr>\n",
       "    <tr>\n",
       "      <th>2015-03-31</th>\n",
       "      <td>-0.015706</td>\n",
       "      <td>0.056204</td>\n",
       "      <td>0.12</td>\n",
       "      <td>4.529595</td>\n",
       "      <td>0.002566</td>\n",
       "    </tr>\n",
       "    <tr>\n",
       "      <th>2015-04-30</th>\n",
       "      <td>0.009834</td>\n",
       "      <td>-0.015706</td>\n",
       "      <td>0.13</td>\n",
       "      <td>4.516926</td>\n",
       "      <td>0.000214</td>\n",
       "    </tr>\n",
       "    <tr>\n",
       "      <th>2015-05-31</th>\n",
       "      <td>0.012856</td>\n",
       "      <td>0.009834</td>\n",
       "      <td>0.13</td>\n",
       "      <td>4.509930</td>\n",
       "      <td>0.000006</td>\n",
       "    </tr>\n",
       "  </tbody>\n",
       "</table>\n",
       "</div>"
      ],
      "text/plain": [
       "              return  lagged_return  EFFR  PriceDivRatio    cookd3\n",
       "Date                                                              \n",
       "2015-01-31 -0.029629      -0.002537  0.13       4.505365  0.006109\n",
       "2015-02-28  0.056204      -0.029629  0.13       4.579652  0.005021\n",
       "2015-03-31 -0.015706       0.056204  0.12       4.529595  0.002566\n",
       "2015-04-30  0.009834      -0.015706  0.13       4.516926  0.000214\n",
       "2015-05-31  0.012856       0.009834  0.13       4.509930  0.000006"
      ]
     },
     "execution_count": 45,
     "metadata": {},
     "output_type": "execute_result"
    }
   ],
   "source": [
    "df2.head()"
   ]
  },
  {
   "cell_type": "code",
   "execution_count": 46,
   "metadata": {
    "id": "WYM8eY7Ij80Q"
   },
   "outputs": [],
   "source": [
    "df2['lagged ** 2'] = df2['lagged_return'] ** 2\n",
    "df2['lagged ** 3'] = df2['lagged_return'] ** 3\n",
    "df2['EFFR ** 2'] = df2['EFFR'] ** 2\n",
    "df2['EFFR ** 3'] = df2['EFFR'] ** 3\n",
    "df2['PD ** 2'] = df2['PriceDivRatio'] ** 2\n",
    "df2['PD ** 3'] = df2['PriceDivRatio'] ** 3"
   ]
  },
  {
   "cell_type": "code",
   "execution_count": 47,
   "metadata": {
    "id": "anKcMOytkGF5"
   },
   "outputs": [],
   "source": [
    "Y = df2['return']\n",
    "X = df2.iloc[:, 1:]"
   ]
  },
  {
   "cell_type": "code",
   "execution_count": 48,
   "metadata": {
    "colab": {
     "base_uri": "https://localhost:8080/",
     "height": 238
    },
    "id": "ieXzgVookNHw",
    "outputId": "05c600ee-0e0f-42da-f070-e552b103fb9b"
   },
   "outputs": [
    {
     "data": {
      "text/html": [
       "<div>\n",
       "<style scoped>\n",
       "    .dataframe tbody tr th:only-of-type {\n",
       "        vertical-align: middle;\n",
       "    }\n",
       "\n",
       "    .dataframe tbody tr th {\n",
       "        vertical-align: top;\n",
       "    }\n",
       "\n",
       "    .dataframe thead th {\n",
       "        text-align: right;\n",
       "    }\n",
       "</style>\n",
       "<table border=\"1\" class=\"dataframe\">\n",
       "  <thead>\n",
       "    <tr style=\"text-align: right;\">\n",
       "      <th></th>\n",
       "      <th>lagged_return</th>\n",
       "      <th>EFFR</th>\n",
       "      <th>PriceDivRatio</th>\n",
       "      <th>cookd3</th>\n",
       "      <th>lagged ** 2</th>\n",
       "      <th>lagged ** 3</th>\n",
       "      <th>EFFR ** 2</th>\n",
       "      <th>EFFR ** 3</th>\n",
       "      <th>PD ** 2</th>\n",
       "      <th>PD ** 3</th>\n",
       "    </tr>\n",
       "    <tr>\n",
       "      <th>Date</th>\n",
       "      <th></th>\n",
       "      <th></th>\n",
       "      <th></th>\n",
       "      <th></th>\n",
       "      <th></th>\n",
       "      <th></th>\n",
       "      <th></th>\n",
       "      <th></th>\n",
       "      <th></th>\n",
       "      <th></th>\n",
       "    </tr>\n",
       "  </thead>\n",
       "  <tbody>\n",
       "    <tr>\n",
       "      <th>2015-01-31</th>\n",
       "      <td>-0.002537</td>\n",
       "      <td>0.13</td>\n",
       "      <td>4.505365</td>\n",
       "      <td>0.006109</td>\n",
       "      <td>0.000006</td>\n",
       "      <td>-1.632291e-08</td>\n",
       "      <td>0.0169</td>\n",
       "      <td>0.002197</td>\n",
       "      <td>20.298311</td>\n",
       "      <td>91.451291</td>\n",
       "    </tr>\n",
       "    <tr>\n",
       "      <th>2015-02-28</th>\n",
       "      <td>-0.029629</td>\n",
       "      <td>0.13</td>\n",
       "      <td>4.579652</td>\n",
       "      <td>0.005021</td>\n",
       "      <td>0.000878</td>\n",
       "      <td>-2.601075e-05</td>\n",
       "      <td>0.0169</td>\n",
       "      <td>0.002197</td>\n",
       "      <td>20.973216</td>\n",
       "      <td>96.050036</td>\n",
       "    </tr>\n",
       "    <tr>\n",
       "      <th>2015-03-31</th>\n",
       "      <td>0.056204</td>\n",
       "      <td>0.12</td>\n",
       "      <td>4.529595</td>\n",
       "      <td>0.002566</td>\n",
       "      <td>0.003159</td>\n",
       "      <td>1.775463e-04</td>\n",
       "      <td>0.0144</td>\n",
       "      <td>0.001728</td>\n",
       "      <td>20.517230</td>\n",
       "      <td>92.934743</td>\n",
       "    </tr>\n",
       "    <tr>\n",
       "      <th>2015-04-30</th>\n",
       "      <td>-0.015706</td>\n",
       "      <td>0.13</td>\n",
       "      <td>4.516926</td>\n",
       "      <td>0.000214</td>\n",
       "      <td>0.000247</td>\n",
       "      <td>-3.874125e-06</td>\n",
       "      <td>0.0169</td>\n",
       "      <td>0.002197</td>\n",
       "      <td>20.402622</td>\n",
       "      <td>92.157135</td>\n",
       "    </tr>\n",
       "    <tr>\n",
       "      <th>2015-05-31</th>\n",
       "      <td>0.009834</td>\n",
       "      <td>0.13</td>\n",
       "      <td>4.509930</td>\n",
       "      <td>0.000006</td>\n",
       "      <td>0.000097</td>\n",
       "      <td>9.510277e-07</td>\n",
       "      <td>0.0169</td>\n",
       "      <td>0.002197</td>\n",
       "      <td>20.339467</td>\n",
       "      <td>91.729568</td>\n",
       "    </tr>\n",
       "  </tbody>\n",
       "</table>\n",
       "</div>"
      ],
      "text/plain": [
       "            lagged_return  EFFR  PriceDivRatio    cookd3  lagged ** 2  \\\n",
       "Date                                                                    \n",
       "2015-01-31      -0.002537  0.13       4.505365  0.006109     0.000006   \n",
       "2015-02-28      -0.029629  0.13       4.579652  0.005021     0.000878   \n",
       "2015-03-31       0.056204  0.12       4.529595  0.002566     0.003159   \n",
       "2015-04-30      -0.015706  0.13       4.516926  0.000214     0.000247   \n",
       "2015-05-31       0.009834  0.13       4.509930  0.000006     0.000097   \n",
       "\n",
       "             lagged ** 3  EFFR ** 2  EFFR ** 3    PD ** 2    PD ** 3  \n",
       "Date                                                                  \n",
       "2015-01-31 -1.632291e-08     0.0169   0.002197  20.298311  91.451291  \n",
       "2015-02-28 -2.601075e-05     0.0169   0.002197  20.973216  96.050036  \n",
       "2015-03-31  1.775463e-04     0.0144   0.001728  20.517230  92.934743  \n",
       "2015-04-30 -3.874125e-06     0.0169   0.002197  20.402622  92.157135  \n",
       "2015-05-31  9.510277e-07     0.0169   0.002197  20.339467  91.729568  "
      ]
     },
     "execution_count": 48,
     "metadata": {},
     "output_type": "execute_result"
    }
   ],
   "source": [
    "X.head()"
   ]
  },
  {
   "cell_type": "code",
   "execution_count": 49,
   "metadata": {
    "id": "JiTMXdJMkSMq"
   },
   "outputs": [],
   "source": [
    "holdlm3 = sm.OLS.from_formula(formula=\"Y~X\", data=df2).fit()\n"
   ]
  },
  {
   "cell_type": "code",
   "execution_count": 51,
   "metadata": {
    "colab": {
     "base_uri": "https://localhost:8080/",
     "height": 679
    },
    "id": "1qJiZ4drkcoD",
    "outputId": "91860c1b-ae8b-4460-f5ce-90112549bacb"
   },
   "outputs": [
    {
     "name": "stdout",
     "output_type": "stream",
     "text": [
      "                            OLS Regression Results                            \n",
      "==============================================================================\n",
      "Dep. Variable:                      Y   R-squared:                       0.309\n",
      "Model:                            OLS   Adj. R-squared:                  0.225\n",
      "Method:                 Least Squares   F-statistic:                     3.672\n",
      "Date:                Tue, 11 Oct 2022   Prob (F-statistic):           0.000438\n",
      "Time:                        11:23:42   Log-Likelihood:                 173.58\n",
      "No. Observations:                  93   AIC:                            -325.2\n",
      "Df Residuals:                      82   BIC:                            -297.3\n",
      "Df Model:                          10                                         \n",
      "Covariance Type:            nonrobust                                         \n",
      "==============================================================================\n",
      "                 coef    std err          t      P>|t|      [0.025      0.975]\n",
      "------------------------------------------------------------------------------\n",
      "Intercept     -2.4328      1.550     -1.569      0.120      -5.517       0.651\n",
      "X[0]          -0.2585      0.167     -1.548      0.125      -0.591       0.074\n",
      "X[1]          -0.0341      0.048     -0.707      0.481      -0.130       0.062\n",
      "X[2]           1.4215      0.914      1.555      0.124      -0.397       3.240\n",
      "X[3]          -0.6219      0.155     -4.015      0.000      -0.930      -0.314\n",
      "X[4]           6.7445      1.701      3.966      0.000       3.362      10.127\n",
      "X[5]         -27.8806     19.638     -1.420      0.159     -66.947      11.186\n",
      "X[6]           0.0217      0.043      0.510      0.611      -0.063       0.107\n",
      "X[7]          -0.0051      0.010     -0.505      0.615      -0.025       0.015\n",
      "X[8]          -0.2697      0.178     -1.519      0.133      -0.623       0.084\n",
      "X[9]           0.0168      0.011      1.476      0.144      -0.006       0.039\n",
      "==============================================================================\n",
      "Omnibus:                        1.148   Durbin-Watson:                   1.909\n",
      "Prob(Omnibus):                  0.563   Jarque-Bera (JB):                1.135\n",
      "Skew:                          -0.143   Prob(JB):                        0.567\n",
      "Kurtosis:                       2.541   Cond. No.                     6.37e+05\n",
      "==============================================================================\n",
      "\n",
      "Notes:\n",
      "[1] Standard Errors assume that the covariance matrix of the errors is correctly specified.\n",
      "[2] The condition number is large, 6.37e+05. This might indicate that there are\n",
      "strong multicollinearity or other numerical problems.\n"
     ]
    }
   ],
   "source": [
    "print(holdlm3.summary())"
   ]
  },
  {
   "cell_type": "code",
   "execution_count": null,
   "metadata": {
    "id": "vJ7AIexbkmpF"
   },
   "outputs": [],
   "source": []
  }
 ],
 "metadata": {
  "colab": {
   "collapsed_sections": [],
   "provenance": []
  },
  "kernelspec": {
   "display_name": "Python 3 (ipykernel)",
   "language": "python",
   "name": "python3"
  },
  "language_info": {
   "codemirror_mode": {
    "name": "ipython",
    "version": 3
   },
   "file_extension": ".py",
   "mimetype": "text/x-python",
   "name": "python",
   "nbconvert_exporter": "python",
   "pygments_lexer": "ipython3",
   "version": "3.11.4"
  }
 },
 "nbformat": 4,
 "nbformat_minor": 1
}
